{
 "cells": [
  {
   "cell_type": "markdown",
   "metadata": {},
   "source": [
    "Lukas Mosser\n",
    "February 2016"
   ]
  },
  {
   "cell_type": "code",
   "execution_count": 142,
   "metadata": {
    "collapsed": true
   },
   "outputs": [],
   "source": [
    "import numpy as np"
   ]
  },
  {
   "cell_type": "markdown",
   "metadata": {},
   "source": [
    "#Excercise 1: Average Permeability fow parallel and perpendicular flow"
   ]
  },
  {
   "cell_type": "markdown",
   "metadata": {},
   "source": [
    "##1.1: Proof of average permeability for case of parallel flow"
   ]
  },
  {
   "cell_type": "markdown",
   "metadata": {},
   "source": [
    "We define Darcy's law for a region i with permeability $k_{i}$ and Surface area $S_{i}$ as:\n",
    "$$q_{i}=\\frac{k_{i}}{\\mu}S_{i}\\frac{dP}{dx}$$\n",
    "and in the discrete form as:\n",
    "$$q_{i}=\\frac{k_{i}}{\\mu}S_{i}\\frac{\\Delta P}{L}$$"
   ]
  },
  {
   "cell_type": "markdown",
   "metadata": {},
   "source": [
    "For the case of parallel flow we can assume that the total flow rate $q_{T}$ is equal to the the sum of the individual layer rates $\\sum{q_{i}}$"
   ]
  },
  {
   "cell_type": "markdown",
   "metadata": {},
   "source": [
    "We can therefor write:\n",
    "$$q_{T}=\\sum{q_{i}}$$\n",
    "\n",
    "Writing Darcy's Law for $q_{T}$:\n",
    "$$q_{T}= \\frac{\\overline{k}}{\\mu}S_{T}\\frac{\\Delta P}{L}$$\n",
    "\n",
    "And therefore subsituting Darcy's Law for the total flow rate and the individual layers:\n",
    "$$\\frac{\\overline{k}}{\\mu}S_{T}\\frac{\\Delta P}{L}=\\sum{\\frac{k_{i}}{\\mu}S_{i}\\frac{\\Delta P}{L}}$$"
   ]
  },
  {
   "cell_type": "markdown",
   "metadata": {},
   "source": [
    "Cancelling equivalent terms and constants: $L$, $\\Delta P$, $\\mu$\n",
    "$$\\overline{k}S_{T}=\\sum{k_{i}S_{i}}$$\n",
    "Rearranging terms for the average permeability in case of parallel flow:\n",
    "$$\\overline{k}=\\frac{\\sum{k_{i}S_{i}}}{S_{T}}$$\n",
    "Assuming that $S_{T}=\\sum{S_{i}}$ we can write the final equation for average permeability in case of parrallel flow:\n",
    "$$\\overline{k}=\\frac{\\sum{k_{i}S_{i}}}{\\sum{S_{i}}}$$"
   ]
  },
  {
   "cell_type": "markdown",
   "metadata": {},
   "source": [
    "##1.1: Proof of average permeability for case of perpendicular flow"
   ]
  },
  {
   "cell_type": "markdown",
   "metadata": {},
   "source": [
    "We define Darcy's law for a region i with permeability $k_{i}$ and Surface area $S_{i}$ as:\n",
    "$$q_{i}=\\frac{k_{i}}{\\mu}S_{i}\\frac{dP}{dx}$$\n",
    "and in the discrete form as:\n",
    "$$q_{i}=\\frac{k_{i}}{\\mu}S_{i}\\frac{\\Delta P_{i}}{L_{i}}$$"
   ]
  },
  {
   "cell_type": "markdown",
   "metadata": {},
   "source": [
    "For the case of perpendicular flow we can assume that the total pressure drop $\\Delta P_{T}$ is equal to the the sum of the individual pressure drops $\\sum{\\Delta P_{i}}$\n",
    "Due to the continuity equation the total flow rate $q_{T}$ is equal to the individual layer flow rates $q_{i}$ and surface area $S_{T}$ is equal to the indivdual layer surface areas $S_{i}$ and is constant for all layers therefore."
   ]
  },
  {
   "cell_type": "markdown",
   "metadata": {},
   "source": [
    "Writing Darcy's Law for $q_{T}$:\n",
    "$$q_{T}=q=\\frac{\\overline{k}}{\\mu}S\\frac{\\Delta P_{T}}{L_{T}}$$"
   ]
  },
  {
   "cell_type": "markdown",
   "metadata": {},
   "source": [
    "Assuming constant surface areas and rates we write for the individual layers:\n",
    "$$q=\\frac{k_{i}}{\\mu}S\\frac{\\Delta P_{i}}{L_{i}}$$"
   ]
  },
  {
   "cell_type": "markdown",
   "metadata": {},
   "source": [
    "Rearranging for pressure drops:\n",
    "$$\\Delta P_{T} =\\frac{q \\mu L_{T}}{\\overline{k}S}$$\n",
    "$$\\Delta P_{i} =\\frac{q \\mu L_{i}}{k_{i}S}$$"
   ]
  },
  {
   "cell_type": "markdown",
   "metadata": {},
   "source": [
    "Substituting into for total pressure drops and individual pressure drops:\n",
    "$${\\Delta P_{T}}=\\sum{\\Delta P_{i}}$$ \n",
    "$$\\frac{q \\mu L_{T}}{\\overline{k}S}=\\sum{\\frac{q \\mu L_{i}}{k_{i}S}}$$"
   ]
  },
  {
   "cell_type": "markdown",
   "metadata": {},
   "source": [
    "Cancelling constant terms: $q$, $S$, $mu$\n",
    "$$\\frac{L_{T}}{\\overline{k}}=\\sum{\\frac{L_{i}}{k_{i}}}$$\n",
    "And rearranging for the average permeability in case of perpendicular flow:\n",
    "$$\\overline{k}=\\frac{L_{T}}{\\sum{\\frac{L_{i}}{k_{i}}}}$$\n",
    "This leads us to our final equation for the average permeability in the case of perpendicular flow:\n",
    "$$\\overline{k}=\\frac{\\sum{L_{i}}}{\\sum{\\frac{L_{i}}{k_{i}}}}$$"
   ]
  },
  {
   "cell_type": "markdown",
   "metadata": {},
   "source": [
    "#Excercise 2: Bounds on Average Permeabilities"
   ]
  },
  {
   "cell_type": "code",
   "execution_count": 143,
   "metadata": {
    "collapsed": true
   },
   "outputs": [],
   "source": [
    "layer_1_k = np.array([[50, 60, 70, 80, 100], \n",
    "                      [55, 65, 45, 35, 150],\n",
    "                      [60, 68, 100, 120, 200], \n",
    "                      [60, 60, 150, 200, 300]])\n",
    "layer_2_k = np.array([[200, 150, 160, 100, 200], \n",
    "                      [220, 100, 90, 80, 280],\n",
    "                      [250, 200, 120, 90, 400], \n",
    "                      [300, 250, 300, 400, 600]])\n",
    "layer_3_k = np.array([[75, 60, 70, 55, 90], \n",
    "                      [80, 50, 40, 35, 130],\n",
    "                      [90, 80, 65, 65, 180], \n",
    "                      [110, 90, 135, 180, 270]])\n",
    "\n",
    "layer_1_kz = np.array([[5.0,6.0,7.0,8.0,10.0], \n",
    "                       [5.5,6.5,4.5,3.5,15.0],\n",
    "                       [6.0,7.0,10.0,12.0,20.0], \n",
    "                       [6.0,6.0,15.0,20.0,30.0]])\n",
    "layer_2_kz = np.array([[2.0,1.5,1.6,1.0,2.0], \n",
    "                       [2.2,1.0,0.9,0.8,2.8],\n",
    "                       [2.5,2.0,1.2,0.9,4.0], \n",
    "                       [3.0,2.5,3.0,4.0,6.0]])\n",
    "layer_3_kz = np.array([[1.5,1.2,1.4,1.1,1.8], \n",
    "                       [1.6,1.0,0.8,0.7,2.6],\n",
    "                       [1.8,1.6,1.3,1.3,3.6], \n",
    "                       [2.2,1.8,2.7,3.6,5.4]])\n",
    "kxy_layers = np.array([layer_1_k, layer_2_k, layer_3_k])\n",
    "kz_layers = np.array([layer_1_kz, layer_2_kz, layer_3_kz])"
   ]
  },
  {
   "cell_type": "code",
   "execution_count": 144,
   "metadata": {
    "collapsed": true
   },
   "outputs": [],
   "source": [
    "def arithmetic(data):\n",
    "    data_comp = data.flatten()\n",
    "    k = 0.\n",
    "    i = 0.\n",
    "    for val in data_comp:\n",
    "        k += val\n",
    "        i+= 1.\n",
    "    return k/i\n",
    "\n",
    "def geometric(data):\n",
    "    data_comp = data.flatten()\n",
    "    k = 0.\n",
    "    i = 0.\n",
    "    for val in data_comp:\n",
    "        if val == 0.0:\n",
    "            return 0.0\n",
    "        k += np.log(val)\n",
    "        i+= 1.\n",
    "    return np.exp(k/i)\n",
    "\n",
    "def harmonic(data):\n",
    "    data_comp = data.flatten()\n",
    "    k = 0.\n",
    "    i = 0.\n",
    "    for val in data_comp:\n",
    "        if val == 0.0:\n",
    "            return 0.0\n",
    "        k += 1./val\n",
    "        i+=1.\n",
    "    return i/k\n",
    "\n",
    "def generic_directional_averaging_lower(data, averaging_method=arithmetic, dir=\"x\"):\n",
    "    averages = []\n",
    "    if dir==\"x\":\n",
    "        for i in range(data.shape[0]):\n",
    "            for j in range(data.shape[1]):\n",
    "                averages.append(averaging_method(data[i, j, :]))\n",
    "    elif dir==\"y\":\n",
    "        for i in range(data.shape[0]):\n",
    "            for j in range(data.shape[2]):\n",
    "                averages.append(averaging_method(data[i, :, j]))\n",
    "    elif dir==\"z\":\n",
    "        for i in range(data.shape[1]):\n",
    "            for j in range(data.shape[2]):\n",
    "                averages.append(averaging_method(data[:, i, j]))\n",
    "    return np.array(averages)\n",
    "\n",
    "def generic_directional_averaging_upper(data, averaging_method=arithmetic, dir=\"x\"):\n",
    "    averages = []\n",
    "    if dir==\"x\":\n",
    "        for i in range(data.shape[2]):\n",
    "                averages.append(averaging_method(data[:, :, i]))\n",
    "    elif dir==\"y\":\n",
    "        for i in range(data.shape[1]):\n",
    "                averages.append(averaging_method(data[:, i, :]))\n",
    "    elif dir==\"z\":\n",
    "        for i in range(data.shape[0]):\n",
    "                averages.append(averaging_method(data[i, :, :]))\n",
    "    return np.array(averages)\n",
    "\n",
    "def cardwell_parsons(data, dir=\"x\", bound=\"lower\"):\n",
    "    if bound == \"lower\":\n",
    "        return arithmetic(generic_directional_averaging_lower(data, averaging_method=harmonic, dir=dir))\n",
    "    elif bound == \"upper\":\n",
    "        return harmonic(generic_directional_averaging_upper(data, averaging_method=arithmetic, dir=dir))"
   ]
  },
  {
   "cell_type": "code",
   "execution_count": 145,
   "metadata": {
    "collapsed": false
   },
   "outputs": [
    {
     "name": "stdout",
     "output_type": "stream",
     "text": [
      "141.133333333 4.78166666667\n",
      "112.010351441 3.04189797579\n",
      "92.012156271 2.14895296487\n"
     ]
    }
   ],
   "source": [
    "k_arith_xy = arithmetic(kxy_layers)\n",
    "k_arith_z = arithmetic(kz_layers)\n",
    "print k_arith_xy, k_arith_z\n",
    "\n",
    "k_geom_xy = geometric(kxy_layers)\n",
    "k_geom_z = geometric(kz_layers)\n",
    "print k_geom_xy, k_geom_z\n",
    "\n",
    "k_harm_xy = harmonic(kxy_layers)\n",
    "k_harm_z = harmonic(kz_layers)\n",
    "print k_harm_xy, k_harm_z"
   ]
  },
  {
   "cell_type": "markdown",
   "metadata": {},
   "source": [
    "##2.1: Arithmetic Harmonic and Geometrc Averages of the data:\n",
    "For the horizontal permeability $k_{h}$ the arithmetic, geometric and harmonic averages are:\n",
    "$$k_{h, harm} = 92.0 \\ [mD]$$\n",
    "$$k_{h, geom} = 112.0 \\ [mD]$$\n",
    "$$k_{h, arith} = 141.1 \\ [mD]$$\n",
    "For the vertical permeability $k_{z}$ the arithmetic, geometric and harmonic averages are:\n",
    "$$k_{z, harm} = 2.15 \\ [mD]$$\n",
    "$$k_{z, geom} = 3.04 \\ [mD]$$\n",
    "$$k_{z, arith} = 4.78 \\ [mD]$$"
   ]
  },
  {
   "cell_type": "code",
   "execution_count": 146,
   "metadata": {
    "collapsed": false
   },
   "outputs": [
    {
     "name": "stdout",
     "output_type": "stream",
     "text": [
      "Direction x Bound: upper k average 128.642204826\n",
      "Direction y Bound: upper k average 125.917252914\n",
      "Direction x Bound: lower k average 119.045514943\n",
      "Direction y Bound: lower k average 120.164955901\n"
     ]
    }
   ],
   "source": [
    "from itertools import product\n",
    "\n",
    "for comb in product([\"upper\", \"lower\"], [\"x\", \"y\"]):\n",
    "    bound = comb[0]\n",
    "    dir = comb[1]\n",
    "    print \"Direction \"+dir+\" Bound: \"+bound+\" k average \"+str(cardwell_parsons(kxy_layers, dir=dir, bound=bound))"
   ]
  },
  {
   "cell_type": "code",
   "execution_count": 147,
   "metadata": {
    "collapsed": false
   },
   "outputs": [
    {
     "name": "stdout",
     "output_type": "stream",
     "text": [
      "Direction z Bound: upper k average 2.83882035692\n",
      "Direction z Bound: lower k average 2.79792093858\n"
     ]
    }
   ],
   "source": [
    "for comb in product([\"upper\", \"lower\"], [\"z\"]):\n",
    "    bound = comb[0]\n",
    "    dir = comb[1]\n",
    "    print \"Direction \"+dir+\" Bound: \"+bound+\" k average \"+str(cardwell_parsons(kz_layers, dir=dir, bound=bound))"
   ]
  },
  {
   "cell_type": "markdown",
   "metadata": {},
   "source": [
    "##2.2: Wiener and Cardwell Parsons Bounds for $K_{x}$, $K_{y}$, $K_{z}$\n",
    "The Wiener Bounds are given as:\n",
    "$$K_{i, harm}<K_{i}<K_{i, arith} \\ i = h, \\ z$$\n",
    "Therefore the Wiener Bounds for horizontal and vertical directions are:\n",
    "$$92.0<K_{h}<141.1 \\ [mD]$$\n",
    "$$2.15<K_{z}<4.78 \\ [mD]$$"
   ]
  },
  {
   "cell_type": "markdown",
   "metadata": {},
   "source": [
    "The Cardwell Parson Bounds are given as:\n",
    "$$[A, \\ H](K_{i})<K_{i}<[H,\\ A](K_{i}), \\ i = x, \\ y, \\ z$$\n",
    "Therefore the Cardwell Parsons Bounds for x,y, and z directions are:\n",
    "$$119.0<K_{x}<128.6 [mD]$$\n",
    "$$120.2<K_{y}<125.9 [mD]$$\n",
    "$$2.79<K_{z}<2.84 [mD]$$"
   ]
  },
  {
   "cell_type": "markdown",
   "metadata": {},
   "source": [
    "##2.3: Cardwell Parsons Estimates for $K_{x}$, $K_{y}$, $K_{z}$"
   ]
  },
  {
   "cell_type": "code",
   "execution_count": 148,
   "metadata": {
    "collapsed": false
   },
   "outputs": [
    {
     "name": "stdout",
     "output_type": "stream",
     "text": [
      "123.750868752 123.007484096 2.81829645664\n"
     ]
    }
   ],
   "source": [
    "K_x_cp = np.sqrt(cardwell_parsons(kxy_layers, dir=\"x\", bound=\"lower\")*cardwell_parsons(kxy_layers, dir=\"x\", bound=\"upper\"))\n",
    "K_y_cp = np.sqrt(cardwell_parsons(kxy_layers, dir=\"y\", bound=\"lower\")*cardwell_parsons(kxy_layers, dir=\"y\", bound=\"upper\"))\n",
    "K_z_cp = np.sqrt(cardwell_parsons(kz_layers, dir=\"z\", bound=\"lower\")*cardwell_parsons(kz_layers, dir=\"z\", bound=\"upper\"))\n",
    "print K_x_cp, K_y_cp, K_z_cp"
   ]
  },
  {
   "cell_type": "markdown",
   "metadata": {},
   "source": [
    "The Cardwell Parsons Estimate is given as:\n",
    "$$K_{i, cp}=\\sqrt{[A, \\ H](K_{i})[H,\\ A](K_{i})}, \\ i = x, \\ y, \\ z$$\n",
    "Therefore the Cardwell Parsons Estimates for $K_{x}$, $K_{y}$, $K_{z}$ are:\n",
    "$$K_{x, cp} = 123.75 \\ [mD]$$\n",
    "$$K_{y, cp} =123.01 \\ [mD]$$\n",
    "$$K_{z, cp} = 2.82 \\ [mD]$$"
   ]
  },
  {
   "cell_type": "markdown",
   "metadata": {},
   "source": [
    "##2.4: Questions 2.1, 2.2 and 2.3 when replacing all values in layer 2 for $K_{z}$ with 0."
   ]
  },
  {
   "cell_type": "code",
   "execution_count": 149,
   "metadata": {
    "collapsed": false
   },
   "outputs": [
    {
     "name": "stdout",
     "output_type": "stream",
     "text": [
      "141.133333333 4.03333333333\n",
      "112.010351441 0.0\n",
      "92.012156271 0.0\n"
     ]
    }
   ],
   "source": [
    "kz_layers[1, :, :] =np.array([[0.0,0.0,0.0,0.0,0.0], \n",
    "                              [0.0,0.0,0.0,0.0,0.0],\n",
    "                              [0.0,0.0,0.0,0.0,0.0], \n",
    "                              [0.0,0.0,0.0,0.0,0.0]])\n",
    "k_arith_xy = arithmetic(kxy_layers)\n",
    "k_arith_z = arithmetic(kz_layers)\n",
    "print k_arith_xy, k_arith_z\n",
    "\n",
    "k_geom_xy = geometric(kxy_layers)\n",
    "k_geom_z = geometric(kz_layers)\n",
    "print k_geom_xy, k_geom_z\n",
    "\n",
    "k_harm_xy = harmonic(kxy_layers)\n",
    "k_harm_z = harmonic(kz_layers)\n",
    "print k_harm_xy, k_harm_z"
   ]
  },
  {
   "cell_type": "markdown",
   "metadata": {},
   "source": [
    "###2.4.1: Arithmetic Harmonic and Geometrc Averages of the data, zero layer 2 in $K_{z}$:\n",
    "For the horizontal permeability $k_{h}$ the arithmetic, geometric and harmonic averages are:\n",
    "$$k_{h, harm} = 92.0 \\ [mD]$$\n",
    "$$k_{h, geom} = 112.0 \\ [mD]$$\n",
    "$$k_{h, arith} = 141.1 \\ [mD]$$\n",
    "For the vertical permeability $k_{z}$ the arithmetic, geometric and harmonic averages are:\n",
    "$$k_{z, harm} = 0.0 \\ [mD]$$\n",
    "$$k_{z, geom} = 0.0 \\ [mD]$$\n",
    "$$k_{z, arith} = 4.03 \\ [mD]$$"
   ]
  },
  {
   "cell_type": "code",
   "execution_count": 150,
   "metadata": {
    "collapsed": false
   },
   "outputs": [
    {
     "name": "stdout",
     "output_type": "stream",
     "text": [
      "Direction x Bound: upper k average 128.642204826\n",
      "Direction y Bound: upper k average 125.917252914\n",
      "Direction x Bound: lower k average 119.045514943\n",
      "Direction y Bound: lower k average 120.164955901\n",
      "Direction z Bound: upper k average 0.0\n",
      "Direction z Bound: lower k average 0.0\n"
     ]
    }
   ],
   "source": [
    "for comb in product([\"upper\", \"lower\"], [\"x\", \"y\"]):\n",
    "    bound = comb[0]\n",
    "    dir = comb[1]\n",
    "    print \"Direction \"+dir+\" Bound: \"+bound+\" k average \"+str(cardwell_parsons(kxy_layers, dir=dir, bound=bound))\n",
    "for comb in product([\"upper\", \"lower\"], [\"z\"]):\n",
    "    bound = comb[0]\n",
    "    dir = comb[1]\n",
    "    print \"Direction \"+dir+\" Bound: \"+bound+\" k average \"+str(cardwell_parsons(kz_layers, dir=dir, bound=bound))"
   ]
  },
  {
   "cell_type": "markdown",
   "metadata": {},
   "source": [
    "####2.4.2 Wiener and Cardwell Parsons Bounds for $K_{x}$, $K_{y}$, $K_{z}$\n",
    "The Wiener Bounds are given as:\n",
    "$$K_{i, harm}<K_{i}<K_{i, arith} \\ i = h, \\ z$$\n",
    "Therefore the Wiener Bounds for horizontal and vertical directions are:\n",
    "$$92.0<K_{h}<141.1 \\ [mD]$$\n",
    "$$0.0<K_{z}<4.03 \\ [mD]$$\n",
    "The Cardwell Parson Bounds are given as:\n",
    "$$[A, \\ H](K_{i})<K_{i}<[H,\\ A](K_{i}), \\ i = x, \\ y, \\ z$$\n",
    "Therefore the Cardwell Parsons Bounds for x,y, and z directions are:\n",
    "$$119.0<K_{x}<128.6 [mD]$$\n",
    "$$120.2<K_{y}<125.9 [mD]$$\n",
    "$$0.0<K_{z}<0.0 [mD]$$"
   ]
  },
  {
   "cell_type": "markdown",
   "metadata": {},
   "source": [
    "###2.4.3 Cardwell Parsons Estimates for $K_{x}$, $K_{y}$, $K_{z}$"
   ]
  },
  {
   "cell_type": "code",
   "execution_count": 151,
   "metadata": {
    "collapsed": false
   },
   "outputs": [
    {
     "name": "stdout",
     "output_type": "stream",
     "text": [
      "123.750868752 123.007484096 0.0\n"
     ]
    }
   ],
   "source": [
    "K_x_cp = np.sqrt(cardwell_parsons(kxy_layers, dir=\"x\", bound=\"lower\")*cardwell_parsons(kxy_layers, dir=\"x\", bound=\"upper\"))\n",
    "K_y_cp = np.sqrt(cardwell_parsons(kxy_layers, dir=\"y\", bound=\"lower\")*cardwell_parsons(kxy_layers, dir=\"y\", bound=\"upper\"))\n",
    "K_z_cp = np.sqrt(cardwell_parsons(kz_layers, dir=\"z\", bound=\"lower\")*cardwell_parsons(kz_layers, dir=\"z\", bound=\"upper\"))\n",
    "print K_x_cp, K_y_cp, K_z_cp"
   ]
  },
  {
   "cell_type": "markdown",
   "metadata": {},
   "source": [
    "The Cardwell Parsons Estimate is given as:\n",
    "$$K_{i, cp}=\\sqrt{[A, \\ H](K_{i})[H,\\ A](K_{i})}, \\ i = x, \\ y, \\ z$$\n",
    "Therefore the Cardwell Parsons Estimates for $K_{x}$, $K_{y}$, $K_{z}$ are:\n",
    "$$K_{x, cp} = 123.75 \\ [mD]$$\n",
    "$$K_{y, cp} =123.01 \\ [mD]$$\n",
    "$$K_{z, cp} = 0.0 \\ [mD]$$"
   ]
  },
  {
   "cell_type": "markdown",
   "metadata": {},
   "source": [
    "##2.5 Check the inequalities\n",
    "The inequalities for the case of zero permeability in layer two will result in the lower Cardwell Parson bound to become zero.\n",
    "The Wiener bounds and Cardwell Parson bounds are still fullfilled in all cases as the lower wiener bound is zero as well as the lower cardwell parson bound. The cardwell parson upper bound is smaller than the upper wiener bound."
   ]
  },
  {
   "cell_type": "markdown",
   "metadata": {},
   "source": [
    "#Excercise 3: Half Cell Transmissivities"
   ]
  },
  {
   "cell_type": "code",
   "execution_count": 152,
   "metadata": {
    "collapsed": false
   },
   "outputs": [],
   "source": [
    "k_coarse_green = np.array([50, 100, 200, 50])\n",
    "k_coarse_red = np.array([100, 50, 500, 0])\n",
    "k_coarse_blue = np.array([80, 100, 50, 800])\n",
    "\n",
    "k_coarse_green = np.array([50, 100, 200, 50])\n",
    "k_coarse_red = np.array([100, 50, 500, 0])\n",
    "k_coarse_blue = np.array([80, 100, 50, 800])\n",
    "\n",
    "k_coarse_green_1 = np.array([50, 100])\n",
    "k_coarse_green_2 = np.array([200, 50])\n",
    "\n",
    "k_coarse_red_1 = np.array([100, 50])\n",
    "k_coarse_red_2 = np.array([500, 0])\n",
    "\n",
    "k_coarse_blue_1 = np.array([80, 100])\n",
    "k_coarse_blue_2 = np.array([50, 800])"
   ]
  },
  {
   "cell_type": "markdown",
   "metadata": {},
   "source": [
    "##3.1: Compute the mean coarse permeabilities"
   ]
  },
  {
   "cell_type": "code",
   "execution_count": 153,
   "metadata": {
    "collapsed": false
   },
   "outputs": [
    {
     "name": "stdout",
     "output_type": "stream",
     "text": [
      "72.7272727273 0.0 91.4285714286\n"
     ]
    }
   ],
   "source": [
    "print harmonic(k_coarse_green), harmonic(k_coarse_red), harmonic(k_coarse_blue)"
   ]
  },
  {
   "cell_type": "markdown",
   "metadata": {},
   "source": [
    "The mean coarse permeabilities for $K_{green}$, $K_{red}$, $K_{blue}$ are:\n",
    "$$K_{green} = 72.7 \\ [mD]$$\n",
    "$$K_{red} =0.0 \\ [mD]$$\n",
    "$$K_{blue} =91.4 \\ [mD]$$"
   ]
  },
  {
   "cell_type": "markdown",
   "metadata": {},
   "source": [
    "##3.1: Compute the mean half coarse cell permeabilities"
   ]
  },
  {
   "cell_type": "code",
   "execution_count": 154,
   "metadata": {
    "collapsed": false
   },
   "outputs": [
    {
     "name": "stdout",
     "output_type": "stream",
     "text": [
      "66.6666666667 80.0\n",
      "66.6666666667 0.0\n",
      "88.8888888889 94.1176470588\n"
     ]
    }
   ],
   "source": [
    "print harmonic(k_coarse_green_1), harmonic(k_coarse_green_2)\n",
    "print harmonic(k_coarse_red_1), harmonic(k_coarse_red_2)\n",
    "print harmonic(k_coarse_blue_1), harmonic(k_coarse_blue_2)"
   ]
  },
  {
   "cell_type": "markdown",
   "metadata": {},
   "source": [
    "The mean coarse permeabilities for \n",
    "$K_{green, 1}$, $K_{green, 2}$,  $K_{red, 1}$, $K_{red, 2}$,  $K_{blue, 1}$, $K_{blue, 2}$are:\n",
    "$$K_{green, 1} = 66.7 \\ [mD]$$\n",
    "$$K_{green, 2} = 80.0 \\ [mD]$$\n",
    "$$K_{red, 1} =66.7 \\ [mD]$$\n",
    "$$K_{red, 2} =0.0 \\ [mD]$$\n",
    "$$K_{blue, 1} =88.9 \\ [mD]$$\n",
    "$$K_{blue, 2} =94.1 \\ [mD]$$"
   ]
  },
  {
   "cell_type": "markdown",
   "metadata": {},
   "source": [
    "##3.3: Transmissibilities green<->red<->blue for whole coarse and half coarse cells"
   ]
  },
  {
   "cell_type": "markdown",
   "metadata": {},
   "source": [
    "We assume that surface areas between cells and distances between center nodes are the same for all cells, therefore the computation of the transmissivity reduces to the harmonic average between the corse cells and the half coarse cells adjacent to cell boundaries."
   ]
  },
  {
   "cell_type": "code",
   "execution_count": 155,
   "metadata": {
    "collapsed": false
   },
   "outputs": [
    {
     "name": "stdout",
     "output_type": "stream",
     "text": [
      "0.0 0.0\n"
     ]
    }
   ],
   "source": [
    "T_green_red_coarse_full = harmonic(np.array([k_coarse_green, k_coarse_red]))\n",
    "T_red_blue_coarse_full = harmonic(np.array([k_coarse_red, k_coarse_blue]))\n",
    "print T_green_red_coarse_full, T_red_blue_coarse_full"
   ]
  },
  {
   "cell_type": "code",
   "execution_count": 156,
   "metadata": {
    "collapsed": false
   },
   "outputs": [
    {
     "name": "stdout",
     "output_type": "stream",
     "text": [
      "72.7272727273 0.0\n"
     ]
    }
   ],
   "source": [
    "T_green_red_coarse_half = harmonic(np.array([k_coarse_green_2, k_coarse_red_1]))\n",
    "T_red_blue_coarse_half = harmonic(np.array([k_coarse_red_2, k_coarse_blue_1]))\n",
    "print T_green_red_coarse_half, T_red_blue_coarse_half"
   ]
  },
  {
   "cell_type": "markdown",
   "metadata": {},
   "source": [
    "The transmissivities for the full coarse cells is:\n",
    "$$T_{green, red, full} = 0.0 \\ [mD ft]$$\n",
    "$$T_{red, blue, full} = 0.0 \\ [mD ft]$$"
   ]
  },
  {
   "cell_type": "markdown",
   "metadata": {},
   "source": [
    "The transmissivities for the half coarse cells is:\n",
    "$$T_{green, red, half} = 72.7 \\ [mD ft]$$\n",
    "$$T_{red, blue, half} = 0.0 \\ [mD ft]$$"
   ]
  },
  {
   "cell_type": "markdown",
   "metadata": {},
   "source": [
    "##3.4: Conclusion of excercise 3"
   ]
  },
  {
   "cell_type": "markdown",
   "metadata": {},
   "source": [
    "There is a discrepancy between the half coarse and full coarse cell transmissivities.\n",
    "Using the full coarse cell, due to the harmonic averaging all transmissivities of cells bordering a zero valued permeability cell will have zero transmissivity. Whereas using half coarse cells we observe that the transmissivity between green and red is not equal to zero, while red and blue remains zero. Therefore we conclude that whenever the permeability of one cell is equal to zero this will always lead to a zero transmissivity between cells. Only if both half cells, or full cells have permeabilities not equal zero, will there be a non zero transmissivities between the cells."
   ]
  }
 ],
 "metadata": {
  "kernelspec": {
   "display_name": "Python 2",
   "language": "python",
   "name": "python2"
  },
  "language_info": {
   "codemirror_mode": {
    "name": "ipython",
    "version": 2
   },
   "file_extension": ".py",
   "mimetype": "text/x-python",
   "name": "python",
   "nbconvert_exporter": "python",
   "pygments_lexer": "ipython2",
   "version": "2.7.9"
  }
 },
 "nbformat": 4,
 "nbformat_minor": 0
}
