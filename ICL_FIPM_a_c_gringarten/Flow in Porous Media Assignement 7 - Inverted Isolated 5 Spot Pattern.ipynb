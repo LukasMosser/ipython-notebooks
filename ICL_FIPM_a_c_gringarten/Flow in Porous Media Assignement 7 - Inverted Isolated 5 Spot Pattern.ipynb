{
 "cells": [
  {
   "cell_type": "markdown",
   "metadata": {},
   "source": [
    "###Lukas Mosser"
   ]
  },
  {
   "cell_type": "markdown",
   "metadata": {},
   "source": [
    "##Derivation of the performance equation for an isolated  inverted 5-spot pattern"
   ]
  },
  {
   "cell_type": "markdown",
   "metadata": {},
   "source": [
    "Performance is defined by:\n",
    "$$q=[p_{w1}(t)-p_{w2}(t)]$$\n",
    "For an isolated inverted 5-spot pattern we can define $q_{1} = q$ and $q_{2}=q_{3}=q_{4}=q_{5}=q/4$\n",
    "Assuming all well radii are the same $r_{w}$\n",
    "The distance between two outer production well is given by geometric relation of a square with side length d as:\n",
    "$$d_{2,3} = \\sqrt{2}d$$\n",
    "$$d_{2,4} = 2d$$"
   ]
  },
  {
   "cell_type": "markdown",
   "metadata": {},
   "source": [
    "We derive the equation for the drawdown of an Isolated inverted 5-spot pattern:\n",
    "$$\\frac{2\\pi kh}{\\mu}[P_{i}-P_{W1}(t)]= -q_{1}[P_{D}(1, t_{D_{1}})+S_{1}]+q_{2}P_{D}(\\frac{d}{r_{w}},t_{D_{1}})+q_{3}P_{D}(\\frac{d}{r_{w}},t_{D_{1}})+q_{4}P_{D}(\\frac{d}{r_{w}}, t_{D_{1}})+q_{5}P_{D}(\\frac{d}{r_{w}}, t_{D_{1}})$$\n",
    "And for one of the outer wells:\n",
    "$$\\frac{2\\pi kh}{\\mu}[P_{i}-P_{W2}(t)]= +q_{2}[P_{D}(1, t_{D_{1}})+S_{2}]-q_{1}P_{D}(\\frac{d}{r_{w}},t_{D_{2}})+q_{3}P_{D}(\\frac{d\\sqrt{2}}{r_{w}},t_{D_{2}})+q_{4}P_{D}(\\frac{d\\sqrt{2}}{r_{w}}, t_{D_{2}})+q_{5}P_{D}(\\frac{2d}{r_{w}}, t_{D_{2}})$$"
   ]
  },
  {
   "cell_type": "markdown",
   "metadata": {},
   "source": [
    "Simplyfying for the first well:\n",
    "$$\\frac{2\\pi kh}{\\mu}[P_{i}-P_{W1}(t)]= -q[P_{D}(1, t_{D_{1}})+S_{1}]+qP_{D}(\\frac{d}{r_{w}}, t_{D_{1}})$$"
   ]
  },
  {
   "cell_type": "markdown",
   "metadata": {},
   "source": [
    "And for the second well:\n",
    "$$\\frac{2\\pi kh}{\\mu}[P_{i}-P_{W2}(t)]= +\\frac{q}{4}[P_{D}(1, t_{D_{2}})+S_{2}]-qP_{D}(\\frac{d}{r_{w}},t_{D_{2}})+\\frac{q}{2}P_{D}(\\frac{d\\sqrt{2}}{r_{w}},t_{D_{2}})+\\frac{q}{4}P_{D}(\\frac{2d}{r_{w}}, t_{D_{2}})$$"
   ]
  },
  {
   "cell_type": "markdown",
   "metadata": {},
   "source": [
    "Subtracting both equations:\n",
    "$$\\frac{2\\pi kh}{q \\mu}[P_{W1}(t)-P_{W2}(t)]= \\frac{5}{4}P_{D}(1, t_{D})+\\frac{S_{2}}{4}+S_{1}-2P_{D}(\\frac{d}{r_{w}}, t_{D})+\\frac{1}{2}P_{D}(\\frac{d\\sqrt{2}}{r_{w}},t_{D})+\\frac{1}{4}P_{D}(\\frac{2d}{r_{w}}, t_{D})$$"
   ]
  },
  {
   "cell_type": "markdown",
   "metadata": {},
   "source": [
    "Rearranging to form the performance equation:\n",
    "$$q = \\frac{2\\pi kh}{\\mu}\\frac{[P_{W1}(t)-P_{W2}(t)]}{\\frac{5}{4}P_{D}(1, t_{D})-2P_{D}(\\frac{d}{r_{w}}, t_{D})+\\frac{1}{2}P_{D}(\\frac{d\\sqrt{2}}{r_{w}},t_{D})+\\frac{1}{4}P_{D}(\\frac{2d}{r_{w}}, t_{D})+\\frac{S_{2}}{4}+S_{1}}$$"
   ]
  },
  {
   "cell_type": "markdown",
   "metadata": {},
   "source": [
    "Using following semi-log approximations:\n",
    "$$P_{D}(r_{D}, t_{D})=\\frac{1}{2}[ln(\\frac{t_{D}}{r_{D}^2})+0.80907] \\ for\\ r_{D}>1$$\n",
    "$$P_{D}(r_{D}, t_{D})=\\frac{1}{2}[ln(t_{D})+0.80907] \\ for \\ r_{D}=1$$"
   ]
  },
  {
   "cell_type": "markdown",
   "metadata": {},
   "source": [
    "We can use above semi-log relations in the performance equation:\n",
    "$$q = ...$$\n",
    "$$\\frac{4\\pi kh}{\\mu}\\frac{[P_{W1}(t)-P_{W2}(t)]}{\\frac{5}{4}[ln(t_{D})+0.80907]-2[ln(t_{D})-2ln(\\frac{d}{r_{w}})+0.80907]+\\frac{1}{2}[ln(t_{D})-2ln(\\frac{d\\sqrt{2}}{r_{w}})+0.80907]+\\frac{1}{4}[ln(t_{D})-2ln(\\frac{2d}{r_{w}})+0.80907]+2(\\frac{S_{2}}{4}+S_{1})}$$"
   ]
  },
  {
   "cell_type": "markdown",
   "metadata": {},
   "source": [
    "$$q = \\frac{4\\pi kh}{\\mu}\\frac{[P_{W1}(t)-P_{W2}(t)]}{4ln(\\frac{d}{r_{w}})-ln(\\frac{d\\sqrt{2}}{r_{w}})-\\frac{1}{2}ln(\\frac{2d}{r_{w}})+2(\\frac{S_{2}}{4}+S_{1})}$$"
   ]
  },
  {
   "cell_type": "markdown",
   "metadata": {},
   "source": [
    "$$q = \\frac{4\\pi kh}{\\mu}\\frac{[P_{W1}(t)-P_{W2}(t)]}{4ln(\\frac{d}{r_{w}})-ln(\\frac{d}{r_{w}})-\\frac{1}{2}ln(2)-\\frac{1}{2}ln(\\frac{d}{r_{w}})-\\frac{1}{2}ln(2)+2(\\frac{S_{2}}{4}+S_{1})}$$"
   ]
  },
  {
   "cell_type": "markdown",
   "metadata": {},
   "source": [
    "$$q = \\frac{4\\pi kh}{\\mu}\\frac{[P_{W1}(t)-P_{W2}(t)]}{4ln(\\frac{d}{r_{w}})-ln(\\frac{d}{r_{w}})-\\frac{1}{2}ln(\\frac{d}{r_{w}})-ln(2)+2(\\frac{S_{2}}{4}+S_{1})}$$"
   ]
  },
  {
   "cell_type": "markdown",
   "metadata": {},
   "source": [
    "$$q = \\frac{4\\pi kh}{\\mu}\\frac{[P_{W1}(t)-P_{W2}(t)]}{4ln(\\frac{d}{r_{w}})-\\frac{3}{2}ln(\\frac{d}{r_{w}})-ln(2)+2(\\frac{S_{2}}{4}+S_{1})}$$"
   ]
  },
  {
   "cell_type": "markdown",
   "metadata": {},
   "source": [
    "$$q = \\frac{2\\pi kh}{\\mu}\\frac{[P_{W1}(t)-P_{W2}(t)]}{2ln(\\frac{d}{r_{w}})-\\frac{3}{4}ln(\\frac{d}{r_{w}})-\\frac{1}{2}ln(2)+(\\frac{S_{2}}{4}+S_{1})}$$\n",
    "$$S_{1}=S_{2}=S$$"
   ]
  },
  {
   "cell_type": "markdown",
   "metadata": {},
   "source": [
    "$$q = \\frac{2\\pi kh}{\\mu}\\frac{[P_{W1}(t)-P_{W2}(t)]}{2ln(\\frac{d}{r_{w}})-\\frac{3}{4}ln(\\frac{d}{r_{w}})-\\frac{1}{2}ln(2)+\\frac{5}{4}S}$$"
   ]
  },
  {
   "cell_type": "markdown",
   "metadata": {},
   "source": [
    "$$q = \\frac{2\\pi kh}{\\mu}\\frac{[P_{W1}(t)-P_{W2}(t)]}{\\frac{5}{4}ln(\\frac{d}{r_{w}})-\\frac{1}{2}ln(2)+\\frac{5}{4}S}$$"
   ]
  },
  {
   "cell_type": "markdown",
   "metadata": {},
   "source": [
    "$$q = \\frac{2\\pi kh}{\\mu}\\frac{[P_{W1}(t)-P_{W2}(t)]}{ln(\\frac{1}{2^{\\frac{1}{2}}}\\frac{d}{r_{w}}^{\\frac{5}{4}})+ln(\\frac{1}{e^{-S^{\\frac{5}{4}}}})}$$"
   ]
  },
  {
   "cell_type": "markdown",
   "metadata": {},
   "source": [
    "$$q = \\frac{2\\pi kh}{\\mu}\\frac{[P_{W1}(t)-P_{W2}(t)]}{ln(\\frac{1}{2^{\\frac{1}{2}}}\\frac{d}{r_{we}}^{\\frac{5}{4}})}$$"
   ]
  },
  {
   "cell_type": "markdown",
   "metadata": {},
   "source": [
    "$$q = \\frac{2\\pi kh}{\\mu}\\frac{[P_{W1}(t)-P_{W2}(t)]}{ln(\\frac{1}{4^{\\frac{1}{4}}}\\frac{d}{r_{we}}^{\\frac{5}{4}})}$$"
   ]
  },
  {
   "cell_type": "markdown",
   "metadata": {},
   "source": [
    "$$q = \\frac{2\\pi kh}{\\mu}\\frac{[P_{W1}(t)-P_{W2}(t)]}{ln(\\frac{1}{\\sqrt{2}}\\frac{d}{r_{we}}^{\\frac{5}{4}})}$$"
   ]
  }
 ],
 "metadata": {
  "kernelspec": {
   "display_name": "Python 2",
   "language": "python",
   "name": "python2"
  },
  "language_info": {
   "codemirror_mode": {
    "name": "ipython",
    "version": 2
   },
   "file_extension": ".py",
   "mimetype": "text/x-python",
   "name": "python",
   "nbconvert_exporter": "python",
   "pygments_lexer": "ipython2",
   "version": "2.7.9"
  }
 },
 "nbformat": 4,
 "nbformat_minor": 0
}
