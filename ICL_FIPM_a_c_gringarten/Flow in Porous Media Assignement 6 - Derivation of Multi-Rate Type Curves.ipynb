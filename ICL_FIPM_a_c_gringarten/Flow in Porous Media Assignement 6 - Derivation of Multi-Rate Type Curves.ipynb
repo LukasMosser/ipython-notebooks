{
 "cells": [
  {
   "cell_type": "markdown",
   "metadata": {},
   "source": [
    "###Lukas Mosser"
   ]
  },
  {
   "cell_type": "markdown",
   "metadata": {},
   "source": [
    "##Derivation of Multi-Rate Type Curves"
   ]
  },
  {
   "cell_type": "markdown",
   "metadata": {},
   "source": [
    "We start the derivation at the derivation of the build-up type curves. \n",
    "\n",
    "$$(\\Delta P)_{D}=PM|P_{ws}(\\Delta t)- P_{ws}(\\Delta t=0)|$$\n",
    "$$(\\Delta P)_{D}=PM|P_{ws}(\\Delta t)-P_{i}+P_{i}- P_{ws}(\\Delta t=0)|$$\n",
    "$$(\\Delta P)_{D}=PM[P_{i}-P_{ws}(\\Delta t=0)]-PM[P_{i}-P_{ws}(\\Delta t)]$$\n",
    "$$(\\Delta P)_{D}=PM[P_{i}-P_{wf}(t_{p})]-PM[P_{i}-P_{ws}(\\Delta t)]$$\n",
    "$$(\\Delta P)_{D}=P_{D}(t_{p})-PM[P_{i}-P_{ws}(\\Delta t)]$$\n",
    "$$PM[P_{i}-P_{ws}(\\Delta t)] = P_{D}(t_{p}+\\Delta t)-P_{D}(t_{p}+\\Delta t -t_{p})$$\n",
    "Simplyfiying:\n",
    "$$PM[P_{i}-P_{ws}(\\Delta t)] = P_{D}(t_{p}+\\Delta t)-P_{D}(\\Delta t)$$\n",
    "Rearranging the original expression to include $PM[P_{i}-P_{ws}(\\Delta t)] = P_{D}(t_{p}+\\Delta t)-P_{D}(\\Delta t)$:\n",
    "$$(\\Delta P)_{D}=P_{D}(t_{p})-(P_{D}(t_{p}+\\Delta t)-P_{D}(\\Delta t))$$\n",
    "This gives us an expression for the Multi-Rate Type Curve General Form:\n",
    "$$(\\Delta P)_{D}=P_{D}(\\Delta t)+[P_{D}(t_{p})-(P_{D}(t_{p}+\\Delta t)]$$"
   ]
  },
  {
   "cell_type": "markdown",
   "metadata": {},
   "source": [
    "Performing superposition in time we can show:\n",
    "$$\\frac{2\\pi k h}{\\mu}(P_{i}-P)=q_{1}P_{D}[\\sum_{j=1}^{N-1}\\Delta t_{j}+\\Delta t]+(q_{2}-q_{1})P_{D}[\\sum_{j=2}^{N-1}\\Delta t_{j}+\\Delta t]+...+(q_{n}-q_{n-1})P_{D}[\\sum_{j=n}^{N-1}\\Delta t_{j}+\\Delta t]$$\n",
    "By performing a sum over all changes in rates:\n",
    "$$\\frac{2\\pi k h}{\\mu}(P_{i}-P)=\\sum_{i=1}^{N}(q_{j}-q_{j-1})P_{D}[\\sum_{j=i}^{N-1}\\Delta t_{j}+\\Delta t]$$\n",
    "Dividing by the rate change in step n we arrive at the dimensionless form:\n",
    "$$P_{D}(\\sum_{j=i}^{N-1}\\Delta t_{j}+\\Delta t)=\\sum_{i=1}^{N}(\\frac{q_{j}-q_{j-1}}{q_{n-1}-q_{n}})P_{D}[\\sum_{j=i}^{N-1}\\Delta t_{j}+\\Delta t]$$\n",
    "or by defining $t_{p}=\\sum_{j=i}^{N-1}\\Delta t_{j}$:\n",
    "$$P_{D}(t_{p}+\\Delta t)=\\sum_{i=1}^{N}(\\frac{q_{j}-q_{j-1}}{q_{n-1}-q_{n}})P_{D}[t_{p}+\\Delta t]$$\n",
    "And analogous for $P_{D}(t_{p})$:\n",
    "$$P_{D}(t_{p})=\\sum_{i=1}^{N}(\\frac{q_{j}-q_{j-1}}{q_{n-1}-q_{n}})P_{D}[t_{p}]$$"
   ]
  },
  {
   "cell_type": "markdown",
   "metadata": {},
   "source": [
    "Using above expressions we can insert into our general multi-rate type curve expression:\n",
    "$$(\\Delta P)_{D}=P_{D}(\\Delta t)+[\\sum_{i=1}^{N}(\\frac{q_{j}-q_{j-1}}{q_{n-1}-q_{n}})P_{D}[t_{p}]-\\sum_{i=1}^{N}(\\frac{q_{j}-q_{j-1}}{q_{n-1}-q_{n}})P_{D}[t_{p}+\\Delta t]]$$\n",
    "Regrouping the terms in the sum:\n",
    "$$(\\Delta P)_{D}=P_{D}(\\Delta t)+[\\sum_{i=1}^{N}(\\frac{q_{j}-q_{j-1}}{q_{n-1}-q_{n}})[P_{D}[t_{p}]-P_{D}[t_{p}+\\Delta t]]$$\n",
    "Reinserting our expressing for the producing time $t_{p}$ leads to the required solution and the form of the multi-rate type curve:\n",
    "$$(\\Delta P)_{D}=P_{D}(\\Delta t)+[\\sum_{i=1}^{N}(\\frac{q_{j}-q_{j-1}}{q_{n-1}-q_{n}})[P_{D}[\\sum_{j=i}^{N-1}\\Delta t_{j}]-P_{D}[\\sum_{j=i}^{N-1}\\Delta t_{j}+\\Delta t]]$$"
   ]
  }
 ],
 "metadata": {
  "kernelspec": {
   "display_name": "Python 2",
   "language": "python",
   "name": "python2"
  },
  "language_info": {
   "codemirror_mode": {
    "name": "ipython",
    "version": 2
   },
   "file_extension": ".py",
   "mimetype": "text/x-python",
   "name": "python",
   "nbconvert_exporter": "python",
   "pygments_lexer": "ipython2",
   "version": "2.7.9"
  }
 },
 "nbformat": 4,
 "nbformat_minor": 0
}
