{
 "cells": [
  {
   "cell_type": "markdown",
   "metadata": {},
   "source": [
    "###Lukas Mosser"
   ]
  },
  {
   "cell_type": "markdown",
   "metadata": {},
   "source": [
    "##Derivation of Spherical symmetrical diffusivity equation"
   ]
  },
  {
   "cell_type": "markdown",
   "metadata": {},
   "source": [
    "$$Mass \\ In = A(r)\\rho(r)u(r)\\Delta t $$\n",
    "$$Mass \\ In = A(r+\\Delta r)\\rho(r + \\Delta r)u(r+ \\Delta r)\\Delta t $$\n",
    "$$Accumulation = m(t+dt)-m(t)$$"
   ]
  },
  {
   "cell_type": "markdown",
   "metadata": {},
   "source": [
    "We divide by $\\Delta t$ and let the limit of time go towards 0:\n",
    "$$\\lim_{\\Delta t \\to 0} \\frac{m(t+dt)-m(t)}{\\Delta t}=\\frac{dm}{dt}$$"
   ]
  },
  {
   "cell_type": "markdown",
   "metadata": {},
   "source": [
    "We define the mass as:\n",
    "$$m=V \\rho \\phi$$\n",
    "Where the Volume of the differential Sphere can be derived from:\n",
    "$$V = V(r+\\Delta r)_{Sphere} - V(r)_{Sphere} $$"
   ]
  },
  {
   "cell_type": "markdown",
   "metadata": {},
   "source": [
    "Where:\n",
    "    $$V(r)_{Sphere}=\\frac{4}{3}\\pi r^3$$\n",
    "and:\n",
    "    $$V(r+\\Delta r)_{Sphere}=\\frac{4}{3}\\pi (r + \\Delta r)^3$$\n",
    "respectively."
   ]
  },
  {
   "cell_type": "markdown",
   "metadata": {},
   "source": [
    "The volume of the spherical control volume is then given by:\n",
    "$$V = \\frac{4}{3}\\pi (r + \\Delta r)^3 - \\frac{4}{3}\\pi r^3$$\n",
    "Expanding $(r + \\Delta r)^3$ leads to the volume of the spherical control volume:\n",
    "$$V = 4\\pi r^2\\Delta r$$"
   ]
  },
  {
   "cell_type": "markdown",
   "metadata": {},
   "source": [
    "The mass of the spherical control volume is therefore given by:\n",
    "    $$m=4\\pi r^2\\Delta r\\rho\\phi$$"
   ]
  },
  {
   "cell_type": "markdown",
   "metadata": {},
   "source": [
    "We can rewrite the accumulation in terms of the spherical control volumes mass:\n",
    "$$\\frac{dm}{dt} = \\frac{\\partial 4\\pi r^2\\Delta r*\\rho*\\phi}{\\partial t} = 4\\pi r^2\\Delta r \\frac{\\partial (\\rho \\phi)}{\\partial t}$$"
   ]
  },
  {
   "cell_type": "markdown",
   "metadata": {},
   "source": [
    "We apply the continuity equation:\n",
    "$$Mass In = Mass Out \\ + \\ Accumulation$$\n",
    "Forming LHS Terms:\n",
    "$$Mass In \\ - \\ Mass Out  = Accumulation$$"
   ]
  },
  {
   "cell_type": "markdown",
   "metadata": {},
   "source": [
    "We define Mass In in terms of the spherical control volume ($\\Delta t$ has been rearranged to form the limit of the accumulation):\n",
    "    $$Mass \\ In = 4\\pi r^2 \\rho(r)u(r)$$\n",
    "\n",
    "We define Mass Out in terms of the spherical control volume ($\\Delta t$ has been rearranged to form the limit of the accumulation):\n",
    "    $$Mass \\ Out = 4\\pi (r+\\Delta r)^2 \\rho(r+\\Delta r)u(r+\\Delta r)$$"
   ]
  },
  {
   "cell_type": "markdown",
   "metadata": {},
   "source": [
    "LHS terms can be rewritten using above definitions:\n",
    "$$LHS = 4\\pi r^2 \\rho(r)u(r) - 4\\pi (r+\\Delta r)^2 \\rho(r+\\Delta r)u(r+\\Delta r) $$"
   ]
  },
  {
   "cell_type": "markdown",
   "metadata": {},
   "source": [
    "Rearranging the left hand side and dividing LHS and RHS by $\\Delta r$:\n",
    "$$LHS = - \\frac{(4\\pi (r+\\Delta r)^2 \\rho(r+\\Delta r)u(r+\\Delta r) - 4\\pi r^2 \\rho(r)u(r))}{\\Delta r}$$"
   ]
  },
  {
   "cell_type": "markdown",
   "metadata": {},
   "source": [
    "Performing the limit as $\\Delta r$ goes towards 0:\n",
    "$$LHS = -\\lim_{\\Delta r \\to 0}\\frac{(4\\pi (r+\\Delta r)^2 \\rho(r+\\Delta r)u(r+\\Delta r) - 4\\pi r^2 \\rho(r)u(r))}{\\Delta r}$$\n",
    "$$LHS = -\\frac{\\partial (4\\pi r^2 \\rho u)}{\\partial r}$$\n",
    "Rearranging constant terms gives us the final expression for the LHS:\n",
    "$$LHS = -4\\pi\\frac{\\partial (r^2 \\rho u)}{\\partial r}$$"
   ]
  },
  {
   "cell_type": "markdown",
   "metadata": {},
   "source": [
    "Combining LHS and RHS terms:\n",
    "$$ LHS = RHS $$\n",
    "$$-4\\pi\\frac{\\partial (r^2 \\rho u)}{\\partial r} =  4\\pi r^2 \\frac{\\partial (\\rho \\phi)}{\\partial t}$$\n",
    "Gives the continuity equation for a spherical symmetrical coordinate system:\n",
    "$$-\\frac{\\partial (r^2 \\rho u)}{\\partial r} =  r^2 \\frac{\\partial (\\rho \\phi)}{\\partial t}$$"
   ]
  },
  {
   "cell_type": "markdown",
   "metadata": {},
   "source": [
    "Writing Darcy's equation in 1D Spherical coordinates:\n",
    "$$ u = -\\frac{k}{\\mu}\\frac{\\partial P}{\\partial r}$$\n",
    "And Equations of State for the fluid and solid phase respectively:\n",
    "$$c_{o} = \\frac{1}{\\rho}\\frac{\\partial \\rho}{\\partial P}$$\n",
    "$$c_{f} = \\frac{1}{\\phi}\\frac{\\partial \\phi}{\\partial P}$$"
   ]
  },
  {
   "cell_type": "markdown",
   "metadata": {},
   "source": [
    "Using Darcy's equation we can rewrite the continuity equations LHS:\n",
    "$$ LHS = -\\frac{\\partial (r^2 \\rho u)}{\\partial r} = \\frac{\\partial \\ }{\\partial r}(r^2 \\rho \\frac{k}{\\mu}\\frac{\\partial P}{\\partial r}) = \\frac{k}{\\mu} \\frac{\\partial \\ }{\\partial r}(r^2 \\rho \\frac{\\partial P}{\\partial r})$$"
   ]
  },
  {
   "cell_type": "markdown",
   "metadata": {},
   "source": [
    "Applying the Chain Rule to the LHS:\n",
    "$$LHS = \\frac{k}{\\mu}(2r \\rho \\frac{\\partial P}{\\partial r} + r^2 \\rho \\frac{\\partial^2 P}{\\partial r^2} + r^2 \\frac{\\partial \\rho}{\\partial r} \\frac{\\partial P}{\\partial r})$$\n",
    "$$LHS = \\frac{k}{\\mu}(2r \\rho \\frac{\\partial P}{\\partial r} + r^2 \\rho \\frac{\\partial^2 P}{\\partial r^2} + r^2 \\frac{\\partial \\rho}{\\partial r} \\frac{\\partial P}{\\partial P} \\frac{\\partial P}{\\partial r})$$\n",
    "$$LHS = \\frac{k}{\\mu}(2r \\rho \\frac{\\partial P}{\\partial r} + r^2 \\rho \\frac{\\partial^2 P}{\\partial r^2} + r^2 \\frac{\\partial \\rho}{\\partial P} \\frac{\\partial P}{\\partial r} \\frac{\\partial P}{\\partial r})$$\n",
    "$$LHS = \\frac{k}{\\mu}(2r \\rho \\frac{\\partial P}{\\partial r} + r^2 \\rho \\frac{\\partial^2 P}{\\partial r^2} + r^2 \\frac{\\partial \\rho}{\\partial P} (\\frac{\\partial P}{\\partial r})^2)$$\n",
    "$$LHS = \\rho \\frac{k}{\\mu}(2r \\frac{\\partial P}{\\partial r} + r^2 \\frac{\\partial^2 P}{\\partial r^2} + r^2 \\frac{1}{\\rho} \\frac{\\partial \\rho}{\\partial P} (\\frac{\\partial P}{\\partial r})^2)$$\n",
    "$$LHS = \\rho \\frac{k}{\\mu}(2r \\frac{\\partial P}{\\partial r} + r^2 \\frac{\\partial^2 P}{\\partial r^2} + r^2 c_{o} (\\frac{\\partial P}{\\partial r})^2)$$"
   ]
  },
  {
   "cell_type": "markdown",
   "metadata": {},
   "source": [
    "Neglecting small terms $(\\frac{\\partial P}{\\partial r})^2$ gives final form of LHS\n",
    "$$LHS = \\rho \\frac{k}{\\mu}(2r \\frac{\\partial P}{\\partial r} + r^2 \\frac{\\partial^2 P}{\\partial r^2})$$\n",
    "$$LHS = \\rho \\frac{k}{\\mu}\\frac{\\partial \\ }{\\partial r}(r^2 \\frac{\\partial P}{\\partial r})$$"
   ]
  },
  {
   "cell_type": "markdown",
   "metadata": {},
   "source": [
    "Considering the RHS and expanding using the Chain rule:\n",
    "$$RHS = r^2 \\frac{\\partial (\\rho \\phi)}{\\partial t} = r^2 (\\phi \\frac{\\partial \\rho}{\\partial t} + \\rho\\frac{\\partial \\phi }{\\partial t})$$\n",
    "Rearranging Terms and expanding by $\\frac{\\partial P}{\\partial P}$:\n",
    "$$RHS = r^2 \\rho \\phi (\\frac{1}{\\rho} \\frac{\\partial P}{\\partial P}\\frac{\\partial \\rho}{\\partial t} + \\frac{1}{\\phi}\\frac{\\partial P}{\\partial P}\\frac{\\partial \\phi }{\\partial t})$$\n",
    "$$RHS = r^2 \\rho \\phi (\\frac{1}{\\rho} \\frac{\\partial \\rho}{\\partial P}\\frac{\\partial P}{\\partial t} + \\frac{1}{\\phi}\\frac{\\partial \\phi}{\\partial P}\\frac{\\partial P }{\\partial t})$$"
   ]
  },
  {
   "cell_type": "markdown",
   "metadata": {
    "collapsed": true
   },
   "source": [
    "Using the equations of state we can rearrange the RHS:\n",
    "$$RHS = r^2 \\rho \\phi (c_{o} + c_{f})\\frac{\\partial P}{\\partial t}$$\n",
    "We define the total system compressibility (single fluid) as $c_{t}=c_{o}+c_{f}$\n",
    "$$RHS = r^2 \\rho \\phi c_{t}\\frac{\\partial P}{\\partial t}$$"
   ]
  },
  {
   "cell_type": "markdown",
   "metadata": {},
   "source": [
    "Combining LHS and RHS:\n",
    "$$\\rho \\frac{k}{\\mu}\\frac{\\partial \\ }{\\partial r}(r^2 \\frac{\\partial P}{\\partial r}) = r^2 \\rho \\phi c_{t}\\frac{\\partial P}{\\partial t}$$"
   ]
  },
  {
   "cell_type": "markdown",
   "metadata": {},
   "source": [
    "Simplyfing we arrive at the final pressure diffusion equation for spherical symmetrical flow:\n",
    "    $$\\frac{1}{r^2}\\frac{\\partial \\ }{\\partial r}(r^2 \\frac{\\partial P}{\\partial r}) =  \\frac{\\mu \\phi c_{t}}{k} \\frac{\\partial P}{\\partial t}$$"
   ]
  },
  {
   "cell_type": "markdown",
   "metadata": {},
   "source": [
    "##Dimensionless form of the spherical symmetrical diffusion equation"
   ]
  },
  {
   "cell_type": "markdown",
   "metadata": {},
   "source": [
    "We define dimensionless groups for space:\n",
    "$$r_{D} = \\frac{r}{r_{w}}$$"
   ]
  },
  {
   "cell_type": "markdown",
   "metadata": {},
   "source": [
    "$$\\frac{r_{w}^3}{r_{w}^3}\\frac{1}{r^2}\\frac{\\partial \\ }{\\partial r}(r^2 \\frac{\\partial P}{\\partial r}) =  \\frac{\\mu \\phi c_{t}}{k} \\frac{\\partial P}{\\partial t}$$"
   ]
  },
  {
   "cell_type": "markdown",
   "metadata": {},
   "source": [
    "$$\\frac{1}{r_{w}^3} \\frac{1}{r_{D}^2}\\frac{\\partial }{\\partial r_{D}}(r^2 \\frac{\\partial P}{\\partial r}) =  \\frac{\\mu \\phi c_{t}}{k} \\frac{\\partial P}{\\partial t}$$"
   ]
  },
  {
   "cell_type": "markdown",
   "metadata": {},
   "source": [
    "$$\\frac{1}{r_{w}} \\frac{1}{r_{D}^2}\\frac{\\partial }{\\partial r_{D}}(r_{D}^2 \\frac{r_{w}}{r_{w}}\\frac{\\partial P}{\\partial r}) =  \\frac{\\mu \\phi c_{t}}{k} \\frac{\\partial P}{\\partial t}$$"
   ]
  },
  {
   "cell_type": "markdown",
   "metadata": {},
   "source": [
    "$$\\frac{1}{r_{w}} \\frac{1}{r_{D}^2}\\frac{\\partial }{\\partial r_{D}}(r_{D}^2 \\frac{1}{r_{w}}\\frac{\\partial P}{\\partial r_{D}}) =  \\frac{\\mu \\phi c_{t}}{k} \\frac{\\partial P}{\\partial t}$$"
   ]
  },
  {
   "cell_type": "markdown",
   "metadata": {},
   "source": [
    "$$\\frac{1}{r_{w}^2} \\frac{1}{r_{D}^2}\\frac{\\partial }{\\partial r_{D}}(r_{D}^2 \\frac{\\partial P}{\\partial r_{D}}) =  \\frac{\\mu \\phi c_{t}}{k} \\frac{\\partial P}{\\partial t}$$"
   ]
  },
  {
   "cell_type": "markdown",
   "metadata": {},
   "source": [
    "$$\\frac{1}{r_{D}^2}\\frac{\\partial }{\\partial r_{D}}(r_{D}^2 \\frac{\\partial P}{\\partial r_{D}}) =  \\frac{r_{w}^2 \\mu \\phi c_{t}}{k} \\frac{\\partial P}{\\partial t}$$"
   ]
  },
  {
   "cell_type": "markdown",
   "metadata": {},
   "source": [
    "We define dimensionless time as:\n",
    "    $$t_{D} = \\frac{k}{r_{w}^2 \\mu \\phi c_{t}}t $$\n",
    "And perform a change of variables from time to dimensionless time:\n",
    "$$\\frac{1}{r_{D}^2}\\frac{\\partial }{\\partial r_{D}}(r_{D}^2 \\frac{\\partial P}{\\partial r_{D}}) =  \\frac{\\partial P}{\\partial t_{D}}$$"
   ]
  },
  {
   "cell_type": "markdown",
   "metadata": {},
   "source": [
    "We define dimensionless pressure:\n",
    "    $$P_{D}=\\frac{2 \\pi kh}{\\mu q} P $$\n",
    "And perform a change of varibles from pressure to dimensionless pressure:\n",
    "$$\\frac{1}{r_{D}^2}\\frac{\\partial }{\\partial r_{D}}(r_{D}^2 \\frac{\\partial P}{\\partial r_{D}}) \\frac{2 \\pi kh}{\\mu q}=  \\frac{\\partial P}{\\partial t_{D}}\\frac{2 \\pi kh}{\\mu q}$$\n",
    "$$\\frac{1}{r_{D}^2}\\frac{\\partial }{\\partial r_{D}}(r_{D}^2 \\frac{\\partial P_{D}}{\\partial r_{D}})=  \\frac{\\partial P_{D}}{\\partial t_{D}}$$"
   ]
  },
  {
   "cell_type": "markdown",
   "metadata": {},
   "source": [
    "The diffusivity equation for spherical symmetrical flow in dimensionless terms is therefore given as:\n",
    "$$\\frac{1}{r_{D}^2}\\frac{\\partial }{\\partial r_{D}}(r_{D}^2 \\frac{\\partial P_{D}}{\\partial r_{D}})=  \\frac{\\partial P_{D}}{\\partial t_{D}}$$\n",
    "With dimensionless groups:\n",
    "$$P_{D}=\\frac{2\\pi kh}{\\mu q} (P_{i}-P) $$\n",
    "$$t_{D} = \\frac{k}{r_{w}^2 \\mu \\phi c_{t}}t $$\n",
    "$$r_{D} = \\frac{r}{r_{w}}$$"
   ]
  },
  {
   "cell_type": "markdown",
   "metadata": {},
   "source": [
    "##Dimensionless groups for spherical symmetrical flow in field units:"
   ]
  },
  {
   "cell_type": "markdown",
   "metadata": {},
   "source": [
    "In consistent units we define the dimensionless groups for the diffusivity equation in spherical symmetrical coordinates as:\n",
    "$$P_{D}=\\frac{2\\pi kh}{\\mu q}  (P_{i}-P) $$\n",
    "$$t_{D} = \\frac{k}{r_{w}^2 \\mu \\phi c_{t}}t $$\n",
    "$$r_{D} = \\frac{r}{r_{w}}$$"
   ]
  },
  {
   "cell_type": "markdown",
   "metadata": {},
   "source": [
    "Following conversion factors are given from CGS units (consistent) to field units (not consistent):\n",
    "$$k = 1 [D] =  1000 [mD] $$\n",
    "$$\\mu = 1 [cP] = 1 [cP]$$\n",
    "$$c_{t}= 1 [\\frac{1}{atm}] = \\frac{1}{14.6959} [\\frac{1}{psia}]$$\n",
    "$$q = 1.84 [\\frac{cm^3}{s}]= 1 [\\frac{BBl}{d}] $$\n",
    "$$h = 30.48 [cm] = 1 [ft]$$\n",
    "$$B = 1 [-] = 1 [-]$$\n",
    "$$3600 [s] = 1 [h]$$"
   ]
  },
  {
   "cell_type": "markdown",
   "metadata": {},
   "source": [
    "We can therefore express the dimensionless variables in field units:\n",
    "    "
   ]
  },
  {
   "cell_type": "code",
   "execution_count": 33,
   "metadata": {
    "collapsed": false
   },
   "outputs": [
    {
     "name": "stdout",
     "output_type": "stream",
     "text": [
      "Conversion factor P_D: 141.221596345\n",
      "Conversion factor t_D: 0.000263679512654\n"
     ]
    }
   ],
   "source": [
    "P_D = 1/(2*3.141)*1000*1/30.48*1.84*14.6959\n",
    "print \"Conversion factor P_D:\", P_D\n",
    "\n",
    "t_D = 1000/((1/30.48)**2*1/14.6959)*1/(60*60)\n",
    "print \"Conversion factor t_D:\", 1/t_D"
   ]
  },
  {
   "cell_type": "markdown",
   "metadata": {
    "collapsed": true
   },
   "source": [
    "We can therefore express the dimensionless groups in EOF units as:\n",
    "$$P_{D}= \\frac{k [mD]h[ft]}{141.2 \\mu[cP] q[\\frac{BBl}{d}]} (P_{i}-P)[psia] $$\n",
    "$$t_{D} = \\frac{0.00026367k[mD]}{ r_{w}^2 [ft]^2 \\mu [cP] \\phi [-] c_{t}[\\frac{1}{psia}]B[\\frac{rb}{STB}]}t [h]$$\n",
    "$$r_{D} = \\frac{r[ft]}{r_{w}[ft]}$$"
   ]
  }
 ],
 "metadata": {
  "kernelspec": {
   "display_name": "Python 2",
   "language": "python",
   "name": "python2"
  },
  "language_info": {
   "codemirror_mode": {
    "name": "ipython",
    "version": 2
   },
   "file_extension": ".py",
   "mimetype": "text/x-python",
   "name": "python",
   "nbconvert_exporter": "python",
   "pygments_lexer": "ipython2",
   "version": "2.7.9"
  }
 },
 "nbformat": 4,
 "nbformat_minor": 0
}
